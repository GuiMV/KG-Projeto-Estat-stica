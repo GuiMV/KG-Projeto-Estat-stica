{
  "cells": [
    {
      "cell_type": "markdown",
      "metadata": {
        "id": "4r3Ox3mUiLD3"
      },
      "source": [
        "#Bibliotecas Necessárias e Dataset:\n",
        "\n",
        "\n",
        "1.   Pandas: Manipulação de dados;\n",
        "\n",
        "Possíveis Bibliotecas\n",
        "2.   Numpy: Computação numérica (médias, desvios-padrão, correlações...)\n",
        "3.   Matplotlib e Seaborn: Visualização de dados (gráficos, histogramas.)"
      ]
    },
    {
      "cell_type": "code",
      "execution_count": null,
      "metadata": {
        "id": "rwnINORmiO__"
      },
      "outputs": [],
      "source": [
        "import pandas as pd\n",
        "#import numpy as np\n",
        "#import matplotlib.pyplot as plt\n",
        "#import seaborn as sns\n",
        "\n",
        "df = pd.read_csv('https://raw.githubusercontent.com/GuiMV/KG-Projeto-Estat-stica/refs/heads/main/dataset/pokemon_data.csv')\n",
        "amostra = pd.read_csv('https://raw.githubusercontent.com/GuiMV/KG-Projeto-Estat-stica/refs/heads/main/dataset/pokemon_amostra.csv')"
      ]
    },
    {
      "cell_type": "markdown",
      "metadata": {
        "id": "OYgnFH8ein5E"
      },
      "source": [
        "# Funções"
      ]
    },
    {
      "cell_type": "code",
      "execution_count": null,
      "metadata": {
        "id": "CqfsCiEnio3X"
      },
      "outputs": [],
      "source": [
        "def exibir_colunas(colunas, colunas_por_linha=6, largura_fixa=22):\n",
        "    for i, col in enumerate(colunas, 1):\n",
        "        print(col.ljust(largura_fixa), end='')\n",
        "        if i % colunas_por_linha == 0:\n",
        "            print()\n",
        "    print()\n",
        "\n",
        "def mostrar_dataset():\n",
        "    pd.set_option('display.max_columns', 5)\n",
        "    print(df.head(5))\n",
        "\n",
        "def tamanho_dataset():\n",
        "  print(f\"O dataset possui {df.shape[0]} linhas e {df.shape[1]} colunas.\")\n",
        "  print(f\"A amostra possui {amostra.shape[0]} linhas e {amostra.shape[1]} colunas.\")\n",
        "\n",
        "def mostrar_colunas():\n",
        "  exibir_colunas(df.columns, colunas_por_linha=6)\n",
        "\n",
        "def v_qualitativas():\n",
        "  colunas = ['ID', 'Name', 'Type 1', 'Type 2', 'Classification_info', 'gen']\n",
        "  exibir_colunas(colunas, colunas_por_linha=3)\n",
        "\n",
        "def v_quantitativas():\n",
        "  colunas = [\n",
        "        'HP', 'Attack', 'Defense', 'Sp.Attack', 'Sp.Defense', 'Speed', 'Base_Stats',\n",
        "        'normal_weakness', 'fire_weakness', 'water_weakness', 'electric_weakness',\n",
        "        'grass_weakness', 'ice_weakness', 'fighting_weakness', 'poison_weakness',\n",
        "        'ground_weakness', 'flying_weakness', 'psychic_weakness', 'bug_weakness',\n",
        "        'rock_weakness', 'ghost_weakness', 'dragon_weakness', 'dark_weakness',\n",
        "        'steel_weakness', 'fairy_weakness', 'number_immune', 'number_not_effective',\n",
        "        'number_normal', 'number_super_effective'\n",
        "    ]\n",
        "  exibir_colunas(colunas, colunas_por_linha=4)"
      ]
    },
    {
      "cell_type": "markdown",
      "metadata": {
        "id": "P1F2NtFyi1zp"
      },
      "source": [
        "# Dicionário de Ações"
      ]
    },
    {
      "cell_type": "code",
      "execution_count": null,
      "metadata": {
        "id": "wc5S9MS_i6p9"
      },
      "outputs": [],
      "source": [
        "acoes = {\n",
        "  2: mostrar_dataset,\n",
        "  3: tamanho_dataset,\n",
        "  4: mostrar_colunas,\n",
        "  5: v_qualitativas,\n",
        "  6: v_quantitativas\n",
        "}"
      ]
    },
    {
      "cell_type": "markdown",
      "metadata": {
        "id": "0avu_d1ajBtG"
      },
      "source": [
        "# Main"
      ]
    },
    {
      "cell_type": "code",
      "execution_count": null,
      "metadata": {
        "colab": {
          "background_save": true,
          "base_uri": "https://localhost:8080/"
        },
        "id": "fLPCNWbkjCzH",
        "outputId": "ae5df610-e4e3-4ea6-8894-f152f2aa8e16"
      },
      "outputs": [
        {
          "name": "stdout",
          "output_type": "stream",
          "text": [
            "1 - Sair\n",
            "2 - Dataset (População)\n",
            "3 - Tamanho do Dataset (População e Amostra)\n",
            "4 - Variáveis (População)\n",
            "5 - V_Qualitativas (Amostra)\n",
            "6 - V_Quantitativas (Amostra)\n",
            "\n",
            "\n",
            "   ID        Name  ...  number_normal  number_super_effective\n",
            "0   1   Bulbasaur  ...              9                       4\n",
            "1   2     Ivysaur  ...              9                       4\n",
            "2   3    Venusaur  ...              9                       4\n",
            "3   4  Charmander  ...              9                       3\n",
            "4   5  Charmeleon  ...              9                       3\n",
            "\n",
            "[5 rows x 48 columns]\n",
            "\n",
            "1 - Sair\n",
            "2 - Dataset (População)\n",
            "3 - Tamanho do Dataset (População e Amostra)\n",
            "4 - Variáveis (População)\n",
            "5 - V_Qualitativas (Amostra)\n",
            "6 - V_Quantitativas (Amostra)\n",
            "\n",
            "\n",
            "HP                    Attack                Defense               Sp.Attack             \n",
            "Sp.Defense            Speed                 Base_Stats            normal_weakness       \n",
            "fire_weakness         water_weakness        electric_weakness     grass_weakness        \n",
            "ice_weakness          fighting_weakness     poison_weakness       ground_weakness       \n",
            "flying_weakness       psychic_weakness      bug_weakness          rock_weakness         \n",
            "ghost_weakness        dragon_weakness       dark_weakness         steel_weakness        \n",
            "fairy_weakness        number_immune         number_not_effective  number_normal         \n",
            "number_super_effective\n",
            "\n",
            "1 - Sair\n",
            "2 - Dataset (População)\n",
            "3 - Tamanho do Dataset (População e Amostra)\n",
            "4 - Variáveis (População)\n",
            "5 - V_Qualitativas (Amostra)\n",
            "6 - V_Quantitativas (Amostra)\n",
            "\n",
            "\n",
            "ID                    Name                  Type 1                \n",
            "Type 2                Classification_info   gen                   \n",
            "\n",
            "\n",
            "1 - Sair\n",
            "2 - Dataset (População)\n",
            "3 - Tamanho do Dataset (População e Amostra)\n",
            "4 - Variáveis (População)\n",
            "5 - V_Qualitativas (Amostra)\n",
            "6 - V_Quantitativas (Amostra)\n",
            "\n"
          ]
        }
      ],
      "source": [
        "while True:\n",
        "  print(\"1 - Sair\\n2 - Dataset (População)\\n3 - Tamanho do Dataset (População e Amostra)\\n4 - Variáveis (População)\\n5 - V_Qualitativas (Amostra)\\n6 - V_Quantitativas (Amostra)\\n\")\n",
        "\n",
        "  try:\n",
        "    op = int(input(\"Digite a opção desejada: \"))\n",
        "    print()\n",
        "\n",
        "    if op == 1:\n",
        "      print(\"Saindo...\")\n",
        "      break\n",
        "\n",
        "    acao = acoes.get(op)\n",
        "    if acao:\n",
        "      acao()\n",
        "    else:\n",
        "      print(\"Opção inválida. Tente novamente.\")\n",
        "    print()\n",
        "\n",
        "  except ValueError:\n",
        "    print(\"Digite um número válido.\")"
      ]
    }
  ],
  "metadata": {
    "colab": {
      "provenance": []
    },
    "kernelspec": {
      "display_name": "Python 3",
      "name": "python3"
    },
    "language_info": {
      "name": "python"
    }
  },
  "nbformat": 4,
  "nbformat_minor": 0
}